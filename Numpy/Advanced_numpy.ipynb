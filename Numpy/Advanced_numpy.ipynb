{
  "nbformat": 4,
  "nbformat_minor": 0,
  "metadata": {
    "colab": {
      "provenance": []
    },
    "kernelspec": {
      "name": "python3",
      "display_name": "Python 3"
    },
    "language_info": {
      "name": "python"
    }
  },
  "cells": [
    {
      "cell_type": "markdown",
      "source": [
        "Numpy array vs python list"
      ],
      "metadata": {
        "id": "91tqsGSebOdn"
      }
    },
    {
      "cell_type": "code",
      "execution_count": 2,
      "metadata": {
        "colab": {
          "base_uri": "https://localhost:8080/"
        },
        "id": "DYBYDD1CaYEJ",
        "outputId": "fdb3c168-59e9-4fe8-fefb-e7f95e887cc8"
      },
      "outputs": [
        {
          "output_type": "stream",
          "name": "stdout",
          "text": [
            "1.7715096473693848\n"
          ]
        }
      ],
      "source": [
        "#speed\n",
        "#list\n",
        "a=[i for i in range(10000000)]\n",
        "b=[i for i in range(10000000,20000000)]\n",
        "\n",
        "c=[]\n",
        "import time\n",
        "start=time.time()\n",
        "for i in range(len(a)):\n",
        "  a.append(a[i]+b[i])\n",
        "print(time.time()-start)"
      ]
    },
    {
      "cell_type": "code",
      "source": [
        "#numpy\n",
        "import numpy as np\n",
        "a=np.arange(10000000)\n",
        "b=np.arange(10000000,20000000)\n",
        "\n",
        "import time\n",
        "start=time.time()\n",
        "c=a+b\n",
        "print(time.time()-start)"
      ],
      "metadata": {
        "colab": {
          "base_uri": "https://localhost:8080/"
        },
        "id": "OpDvE6DebTW-",
        "outputId": "6c86ec0a-963e-41a7-e54a-f62221b4d74a"
      },
      "execution_count": 3,
      "outputs": [
        {
          "output_type": "stream",
          "name": "stdout",
          "text": [
            "0.041625022888183594\n"
          ]
        }
      ]
    },
    {
      "cell_type": "code",
      "source": [
        "a=[i for i in range(10000000)]\n",
        "import sys\n",
        "sys.getsizeof(a)"
      ],
      "metadata": {
        "colab": {
          "base_uri": "https://localhost:8080/"
        },
        "id": "6fKUk1SncHvO",
        "outputId": "14bdd498-cb5b-4d73-d811-7d730904017f"
      },
      "execution_count": 4,
      "outputs": [
        {
          "output_type": "execute_result",
          "data": {
            "text/plain": [
              "89095160"
            ]
          },
          "metadata": {},
          "execution_count": 4
        }
      ]
    },
    {
      "cell_type": "code",
      "source": [
        "a=np.arange(10000000,dtype=np.int8)\n",
        "import sys\n",
        "sys.getsizeof(a)"
      ],
      "metadata": {
        "colab": {
          "base_uri": "https://localhost:8080/"
        },
        "id": "ow9-t5hydE63",
        "outputId": "5d9c805b-02fc-46e1-da9c-6886c7356a98"
      },
      "execution_count": 5,
      "outputs": [
        {
          "output_type": "execute_result",
          "data": {
            "text/plain": [
              "10000112"
            ]
          },
          "metadata": {},
          "execution_count": 5
        }
      ]
    },
    {
      "cell_type": "code",
      "source": [
        "#convinence\n"
      ],
      "metadata": {
        "id": "G86oHg1udLft"
      },
      "execution_count": 6,
      "outputs": []
    },
    {
      "cell_type": "markdown",
      "source": [
        "Advanced Indexing"
      ],
      "metadata": {
        "id": "VsaLZRidd2hV"
      }
    },
    {
      "cell_type": "code",
      "source": [
        "a=np.arange(12).reshape(4,3)\n",
        "a"
      ],
      "metadata": {
        "colab": {
          "base_uri": "https://localhost:8080/"
        },
        "id": "je7B8viFd00E",
        "outputId": "e21aabd5-f654-4eae-9cac-10cd775dae99"
      },
      "execution_count": 7,
      "outputs": [
        {
          "output_type": "execute_result",
          "data": {
            "text/plain": [
              "array([[ 0,  1,  2],\n",
              "       [ 3,  4,  5],\n",
              "       [ 6,  7,  8],\n",
              "       [ 9, 10, 11]])"
            ]
          },
          "metadata": {},
          "execution_count": 7
        }
      ]
    },
    {
      "cell_type": "code",
      "source": [
        "a[1,2]"
      ],
      "metadata": {
        "colab": {
          "base_uri": "https://localhost:8080/"
        },
        "id": "rCl_0JKzFIXm",
        "outputId": "5764a2ff-ddc0-422f-88cc-fb7c6c833004"
      },
      "execution_count": 8,
      "outputs": [
        {
          "output_type": "execute_result",
          "data": {
            "text/plain": [
              "np.int64(5)"
            ]
          },
          "metadata": {},
          "execution_count": 8
        }
      ]
    },
    {
      "cell_type": "code",
      "source": [
        "#Fancy Indexing"
      ],
      "metadata": {
        "id": "vhgWxyh2FQ-Z"
      },
      "execution_count": 9,
      "outputs": []
    },
    {
      "cell_type": "code",
      "source": [
        "a[[0,2,3]]"
      ],
      "metadata": {
        "colab": {
          "base_uri": "https://localhost:8080/"
        },
        "id": "ZdrQ-04pFeym",
        "outputId": "0b35f5df-1736-4c44-a61a-c3c387f707a7"
      },
      "execution_count": 10,
      "outputs": [
        {
          "output_type": "execute_result",
          "data": {
            "text/plain": [
              "array([[ 0,  1,  2],\n",
              "       [ 6,  7,  8],\n",
              "       [ 9, 10, 11]])"
            ]
          },
          "metadata": {},
          "execution_count": 10
        }
      ]
    },
    {
      "cell_type": "code",
      "source": [
        "a[:,[0,2]]"
      ],
      "metadata": {
        "colab": {
          "base_uri": "https://localhost:8080/"
        },
        "id": "ee9bXejEGB__",
        "outputId": "9a87d83a-70fa-469e-c916-bc3482f43eb8"
      },
      "execution_count": 12,
      "outputs": [
        {
          "output_type": "execute_result",
          "data": {
            "text/plain": [
              "array([[ 0,  2],\n",
              "       [ 3,  5],\n",
              "       [ 6,  8],\n",
              "       [ 9, 11]])"
            ]
          },
          "metadata": {},
          "execution_count": 12
        }
      ]
    },
    {
      "cell_type": "code",
      "source": [
        "#Boolean Indexing"
      ],
      "metadata": {
        "id": "1O5IJXn7GTcs"
      },
      "execution_count": 13,
      "outputs": []
    },
    {
      "cell_type": "code",
      "source": [
        "a=np.random.randint(1,100,24).reshape(6,4)\n",
        "a"
      ],
      "metadata": {
        "colab": {
          "base_uri": "https://localhost:8080/"
        },
        "id": "T6m5mn1nGqNv",
        "outputId": "efc4a6ab-a8a9-406d-c2ea-485fb3e50eb0"
      },
      "execution_count": 16,
      "outputs": [
        {
          "output_type": "execute_result",
          "data": {
            "text/plain": [
              "array([[67, 55, 87, 83],\n",
              "       [92, 61, 48, 23],\n",
              "       [96,  1, 46, 43],\n",
              "       [96, 57, 90, 89],\n",
              "       [11, 16, 91, 18],\n",
              "       [ 8, 41, 45, 24]])"
            ]
          },
          "metadata": {},
          "execution_count": 16
        }
      ]
    },
    {
      "cell_type": "code",
      "source": [
        "#Find all numbers greater than 50\n",
        "a>50"
      ],
      "metadata": {
        "colab": {
          "base_uri": "https://localhost:8080/"
        },
        "id": "-Fka9Aq5HRNr",
        "outputId": "472e08a5-b980-46c1-f483-f45caddfeaa0"
      },
      "execution_count": 17,
      "outputs": [
        {
          "output_type": "execute_result",
          "data": {
            "text/plain": [
              "array([[ True,  True,  True,  True],\n",
              "       [ True,  True, False, False],\n",
              "       [ True, False, False, False],\n",
              "       [ True,  True,  True,  True],\n",
              "       [False, False,  True, False],\n",
              "       [False, False, False, False]])"
            ]
          },
          "metadata": {},
          "execution_count": 17
        }
      ]
    },
    {
      "cell_type": "code",
      "source": [
        "a[a>50]"
      ],
      "metadata": {
        "colab": {
          "base_uri": "https://localhost:8080/"
        },
        "id": "lJF_ugQ9HfPX",
        "outputId": "94cc7f83-113f-4dcf-d9f0-a32f6c134ae5"
      },
      "execution_count": 18,
      "outputs": [
        {
          "output_type": "execute_result",
          "data": {
            "text/plain": [
              "array([67, 55, 87, 83, 92, 61, 96, 96, 57, 90, 89, 91])"
            ]
          },
          "metadata": {},
          "execution_count": 18
        }
      ]
    },
    {
      "cell_type": "code",
      "source": [
        "#find out even numbers\n",
        "a%2==0"
      ],
      "metadata": {
        "colab": {
          "base_uri": "https://localhost:8080/"
        },
        "id": "pNNyC322HyEB",
        "outputId": "6326fefb-8d40-4432-b54d-7de09480a994"
      },
      "execution_count": 19,
      "outputs": [
        {
          "output_type": "execute_result",
          "data": {
            "text/plain": [
              "array([[False, False, False, False],\n",
              "       [ True, False,  True, False],\n",
              "       [ True, False,  True, False],\n",
              "       [ True, False,  True, False],\n",
              "       [False,  True, False,  True],\n",
              "       [ True, False, False,  True]])"
            ]
          },
          "metadata": {},
          "execution_count": 19
        }
      ]
    },
    {
      "cell_type": "code",
      "source": [
        "a[(a>50) & (a%2==0)]"
      ],
      "metadata": {
        "colab": {
          "base_uri": "https://localhost:8080/"
        },
        "id": "sYLehC5iIMJY",
        "outputId": "38d7b00e-0d54-4d9b-da99-260351aaed26"
      },
      "execution_count": 22,
      "outputs": [
        {
          "output_type": "execute_result",
          "data": {
            "text/plain": [
              "array([92, 96, 96, 90])"
            ]
          },
          "metadata": {},
          "execution_count": 22
        }
      ]
    },
    {
      "cell_type": "code",
      "source": [
        "#Find all numbers not divisble by 7\n",
        "a[~(a%7)==0]"
      ],
      "metadata": {
        "colab": {
          "base_uri": "https://localhost:8080/"
        },
        "id": "LiD_inaUIXb5",
        "outputId": "9afb9e02-3a0c-4bf0-fdc0-b945cb7ffd0e"
      },
      "execution_count": 24,
      "outputs": [
        {
          "output_type": "execute_result",
          "data": {
            "text/plain": [
              "array([], dtype=int64)"
            ]
          },
          "metadata": {},
          "execution_count": 24
        }
      ]
    },
    {
      "cell_type": "markdown",
      "source": [
        " Broadcasting"
      ],
      "metadata": {
        "id": "rt2L5ad0JQCW"
      }
    },
    {
      "cell_type": "code",
      "source": [
        "#same shape\n",
        "a=np.arange(6).reshape(2,3)\n",
        "b=np.arange(6,12).reshape(2,3)\n",
        "print(a+b)"
      ],
      "metadata": {
        "colab": {
          "base_uri": "https://localhost:8080/"
        },
        "id": "s3gO4DTDI5Rf",
        "outputId": "be3c2d88-c746-4e47-93bf-6ef4b2e054e4"
      },
      "execution_count": 25,
      "outputs": [
        {
          "output_type": "stream",
          "name": "stdout",
          "text": [
            "[[ 6  8 10]\n",
            " [12 14 16]]\n"
          ]
        }
      ]
    },
    {
      "cell_type": "code",
      "source": [
        "#diff shape\n",
        "a=np.arange(6).reshape(2,3)\n",
        "b=np.arange(3).reshape(1,3)\n",
        "print(a)\n",
        "print(b)\n",
        "\n",
        "print(a+b)"
      ],
      "metadata": {
        "colab": {
          "base_uri": "https://localhost:8080/"
        },
        "id": "HfnSdfYlJ_uV",
        "outputId": "ae736f26-e8bd-4454-948f-1963feb3baec"
      },
      "execution_count": 31,
      "outputs": [
        {
          "output_type": "stream",
          "name": "stdout",
          "text": [
            "[[0 1 2]\n",
            " [3 4 5]]\n",
            "[[0 1 2]]\n",
            "[[0 2 4]\n",
            " [3 5 7]]\n"
          ]
        }
      ]
    },
    {
      "cell_type": "code",
      "source": [
        "a=np.arange(12).reshape(4,3)\n",
        "b=np.arange(3)\n",
        "print(a)\n",
        "print(b)\n",
        "\n",
        "print(a+b)"
      ],
      "metadata": {
        "colab": {
          "base_uri": "https://localhost:8080/"
        },
        "id": "xRm3Rdj_KLtp",
        "outputId": "7d1481ff-5f79-49ed-fcf0-a43c03a9eced"
      },
      "execution_count": 37,
      "outputs": [
        {
          "output_type": "stream",
          "name": "stdout",
          "text": [
            "[[ 0  1  2]\n",
            " [ 3  4  5]\n",
            " [ 6  7  8]\n",
            " [ 9 10 11]]\n",
            "[0 1 2]\n",
            "[[ 0  2  4]\n",
            " [ 3  5  7]\n",
            " [ 6  8 10]\n",
            " [ 9 11 13]]\n"
          ]
        }
      ]
    },
    {
      "cell_type": "code",
      "source": [
        "a=np.arange(12).reshape(3,4)\n",
        "b=np.arange(3)\n",
        "print(a)\n",
        "print(b)\n",
        "\n",
        "print(a+b)"
      ],
      "metadata": {
        "colab": {
          "base_uri": "https://localhost:8080/",
          "height": 245
        },
        "id": "2-k7-0iuL3oe",
        "outputId": "1ed763ff-0936-425b-b893-de9904e4d4b3"
      },
      "execution_count": 38,
      "outputs": [
        {
          "output_type": "stream",
          "name": "stdout",
          "text": [
            "[[ 0  1  2  3]\n",
            " [ 4  5  6  7]\n",
            " [ 8  9 10 11]]\n",
            "[0 1 2]\n"
          ]
        },
        {
          "output_type": "error",
          "ename": "ValueError",
          "evalue": "operands could not be broadcast together with shapes (3,4) (3,) ",
          "traceback": [
            "\u001b[0;31m---------------------------------------------------------------------------\u001b[0m",
            "\u001b[0;31mValueError\u001b[0m                                Traceback (most recent call last)",
            "\u001b[0;32m/tmp/ipython-input-3788761195.py\u001b[0m in \u001b[0;36m<cell line: 0>\u001b[0;34m()\u001b[0m\n\u001b[1;32m      4\u001b[0m \u001b[0mprint\u001b[0m\u001b[0;34m(\u001b[0m\u001b[0mb\u001b[0m\u001b[0;34m)\u001b[0m\u001b[0;34m\u001b[0m\u001b[0;34m\u001b[0m\u001b[0m\n\u001b[1;32m      5\u001b[0m \u001b[0;34m\u001b[0m\u001b[0m\n\u001b[0;32m----> 6\u001b[0;31m \u001b[0mprint\u001b[0m\u001b[0;34m(\u001b[0m\u001b[0ma\u001b[0m\u001b[0;34m+\u001b[0m\u001b[0mb\u001b[0m\u001b[0;34m)\u001b[0m\u001b[0;34m\u001b[0m\u001b[0;34m\u001b[0m\u001b[0m\n\u001b[0m",
            "\u001b[0;31mValueError\u001b[0m: operands could not be broadcast together with shapes (3,4) (3,) "
          ]
        }
      ]
    },
    {
      "cell_type": "code",
      "source": [
        "a=np.array([1])\n",
        "b=np.arange(4).reshape(2,2)\n",
        "print(a)\n",
        "print(b)\n",
        "\n",
        "print(a+b)"
      ],
      "metadata": {
        "colab": {
          "base_uri": "https://localhost:8080/"
        },
        "id": "4fW3Cq9OMdUF",
        "outputId": "ee40b7d5-c71b-455b-8a02-8378fdbbd4f9"
      },
      "execution_count": 39,
      "outputs": [
        {
          "output_type": "stream",
          "name": "stdout",
          "text": [
            "[1]\n",
            "[[0 1]\n",
            " [2 3]]\n",
            "[[1 2]\n",
            " [3 4]]\n"
          ]
        }
      ]
    },
    {
      "cell_type": "code",
      "source": [
        "a=np.arange(12).reshape(3,4)\n",
        "b=np.arange(12).reshape(4,3)\n",
        "print(a)\n",
        "print(b)\n",
        "\n",
        "print(a+b)"
      ],
      "metadata": {
        "colab": {
          "base_uri": "https://localhost:8080/",
          "height": 297
        },
        "id": "ij4zKM10M2qd",
        "outputId": "2553d71a-ba18-4f0d-f629-32d9a3ee5d7a"
      },
      "execution_count": 46,
      "outputs": [
        {
          "output_type": "stream",
          "name": "stdout",
          "text": [
            "[[ 0  1  2  3]\n",
            " [ 4  5  6  7]\n",
            " [ 8  9 10 11]]\n",
            "[[ 0  1  2]\n",
            " [ 3  4  5]\n",
            " [ 6  7  8]\n",
            " [ 9 10 11]]\n"
          ]
        },
        {
          "output_type": "error",
          "ename": "ValueError",
          "evalue": "operands could not be broadcast together with shapes (3,4) (4,3) ",
          "traceback": [
            "\u001b[0;31m---------------------------------------------------------------------------\u001b[0m",
            "\u001b[0;31mValueError\u001b[0m                                Traceback (most recent call last)",
            "\u001b[0;32m/tmp/ipython-input-2958720433.py\u001b[0m in \u001b[0;36m<cell line: 0>\u001b[0;34m()\u001b[0m\n\u001b[1;32m      4\u001b[0m \u001b[0mprint\u001b[0m\u001b[0;34m(\u001b[0m\u001b[0mb\u001b[0m\u001b[0;34m)\u001b[0m\u001b[0;34m\u001b[0m\u001b[0;34m\u001b[0m\u001b[0m\n\u001b[1;32m      5\u001b[0m \u001b[0;34m\u001b[0m\u001b[0m\n\u001b[0;32m----> 6\u001b[0;31m \u001b[0mprint\u001b[0m\u001b[0;34m(\u001b[0m\u001b[0ma\u001b[0m\u001b[0;34m+\u001b[0m\u001b[0mb\u001b[0m\u001b[0;34m)\u001b[0m\u001b[0;34m\u001b[0m\u001b[0;34m\u001b[0m\u001b[0m\n\u001b[0m",
            "\u001b[0;31mValueError\u001b[0m: operands could not be broadcast together with shapes (3,4) (4,3) "
          ]
        }
      ]
    },
    {
      "cell_type": "markdown",
      "source": [
        "Working with mathematical formulas"
      ],
      "metadata": {
        "id": "GrJ-wxQFOWVR"
      }
    },
    {
      "cell_type": "code",
      "source": [
        "#sigmoid\n",
        "def sigmoid(arr):\n",
        "  return 1/(1+np.exp(-(arr)))\n",
        "\n",
        "a=np.arange(10)\n",
        "sigmoid(a)"
      ],
      "metadata": {
        "colab": {
          "base_uri": "https://localhost:8080/"
        },
        "id": "EtP2tosYNRtB",
        "outputId": "61543529-b089-4a6d-94cd-8a053ee7fc89"
      },
      "execution_count": 49,
      "outputs": [
        {
          "output_type": "execute_result",
          "data": {
            "text/plain": [
              "array([0.5       , 0.73105858, 0.88079708, 0.95257413, 0.98201379,\n",
              "       0.99330715, 0.99752738, 0.99908895, 0.99966465, 0.99987661])"
            ]
          },
          "metadata": {},
          "execution_count": 49
        }
      ]
    },
    {
      "cell_type": "code",
      "source": [
        "#mean squared error\n",
        "actual=np.random.randint(1,50,25)\n",
        "predicted=np.random.randint(1,50,25)\n",
        "\n",
        "def mse(actual,predicted):\n",
        "  return np.mean((actual-predicted)**2)\n",
        "\n",
        "mse(actual,predicted)"
      ],
      "metadata": {
        "colab": {
          "base_uri": "https://localhost:8080/"
        },
        "id": "LIdg9cgcUP8o",
        "outputId": "1182716d-6683-4665-d328-197d93acceb8"
      },
      "execution_count": 51,
      "outputs": [
        {
          "output_type": "execute_result",
          "data": {
            "text/plain": [
              "np.float64(363.92)"
            ]
          },
          "metadata": {},
          "execution_count": 51
        }
      ]
    },
    {
      "cell_type": "code",
      "source": [
        "#binary cross entropy\n"
      ],
      "metadata": {
        "id": "Y_4g4zBSVjK5"
      },
      "execution_count": null,
      "outputs": []
    },
    {
      "cell_type": "markdown",
      "source": [
        "Working with missing values"
      ],
      "metadata": {
        "id": "FAcBp5FsWRuL"
      }
    },
    {
      "cell_type": "code",
      "source": [
        "a=np.array([1,2,3,4,np.nan,6])\n",
        "np.isnan(a)"
      ],
      "metadata": {
        "colab": {
          "base_uri": "https://localhost:8080/"
        },
        "id": "BBUjlicgWT_b",
        "outputId": "632e1c9c-3800-48f9-d109-bd4a7f1ba8c8"
      },
      "execution_count": 56,
      "outputs": [
        {
          "output_type": "execute_result",
          "data": {
            "text/plain": [
              "array([False, False, False, False,  True, False])"
            ]
          },
          "metadata": {},
          "execution_count": 56
        }
      ]
    },
    {
      "cell_type": "code",
      "source": [
        "a[~np.isnan(a)]\n"
      ],
      "metadata": {
        "colab": {
          "base_uri": "https://localhost:8080/"
        },
        "id": "wrl7MCescmgz",
        "outputId": "6cc1d213-7f9f-40dc-bf63-550c6902c080"
      },
      "execution_count": 57,
      "outputs": [
        {
          "output_type": "execute_result",
          "data": {
            "text/plain": [
              "array([1., 2., 3., 4., 6.])"
            ]
          },
          "metadata": {},
          "execution_count": 57
        }
      ]
    },
    {
      "cell_type": "code",
      "source": [
        "import matplotlib.pyplot as plt\n",
        "x=np.linspace(-10,10,100)\n",
        "y=x\n",
        "plt.plot(x,y)"
      ],
      "metadata": {
        "colab": {
          "base_uri": "https://localhost:8080/",
          "height": 447
        },
        "id": "T4w5_GjHctLG",
        "outputId": "a1f14671-8140-459a-e1c8-06a7f055958b"
      },
      "execution_count": 58,
      "outputs": [
        {
          "output_type": "execute_result",
          "data": {
            "text/plain": [
              "[<matplotlib.lines.Line2D at 0x7d5112d66de0>]"
            ]
          },
          "metadata": {},
          "execution_count": 58
        },
        {
          "output_type": "display_data",
          "data": {
            "text/plain": [
              "<Figure size 640x480 with 1 Axes>"
            ],
            "image/png": "[encoded data removed]"
          },
          "metadata": {}
        }
      ]
    },
    {
      "cell_type": "code",
      "source": [
        "x=np.linspace(-10,10,100)\n",
        "y=x**2\n",
        "plt.plot(x,y)"
      ],
      "metadata": {
        "colab": {
          "base_uri": "https://localhost:8080/",
          "height": 447
        },
        "id": "umPEaB4idkLY",
        "outputId": "049d0d26-4d33-4e4b-8c72-6fed59861ac0"
      },
      "execution_count": 59,
      "outputs": [
        {
          "output_type": "execute_result",
          "data": {
            "text/plain": [
              "[<matplotlib.lines.Line2D at 0x7d512b4bc560>]"
            ]
          },
          "metadata": {},
          "execution_count": 59
        },
        {
          "output_type": "display_data",
          "data": {
            "text/plain": [
              "<Figure size 640x480 with 1 Axes>"
            ],
            "image/png": "[encoded data removed]"
          },
          "metadata": {}
        }
      ]
    },
    {
      "cell_type": "code",
      "source": [
        "x=np.linspace(-10,10,100)\n",
        "y=np.sin(x)\n",
        "plt.plot(x,y)"
      ],
      "metadata": {
        "colab": {
          "base_uri": "https://localhost:8080/",
          "height": 447
        },
        "id": "NHJzOnhSduRv",
        "outputId": "966247e4-8a60-497e-87fd-1cc64dc193ee"
      },
      "execution_count": 62,
      "outputs": [
        {
          "output_type": "execute_result",
          "data": {
            "text/plain": [
              "[<matplotlib.lines.Line2D at 0x7d512b382210>]"
            ]
          },
          "metadata": {},
          "execution_count": 62
        },
        {
          "output_type": "display_data",
          "data": {
            "text/plain": [
              "<Figure size 640x480 with 1 Axes>"
            ],
            "image/png": "[encoded data removed]"
          },
          "metadata": {}
        }
      ]
    },
    {
      "cell_type": "code",
      "source": [],
      "metadata": {
        "id": "-XBvOOOyd2un"
      },
      "execution_count": null,
      "outputs": []
    }
  ]
}